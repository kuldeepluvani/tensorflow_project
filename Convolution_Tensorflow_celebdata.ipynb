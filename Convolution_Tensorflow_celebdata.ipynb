{
 "cells": [
  {
   "cell_type": "code",
   "execution_count": 1,
   "metadata": {
    "collapsed": false
   },
   "outputs": [
    {
     "data": {
      "text/plain": [
       "\" \\nIntroduction to Tensorflow\\n\\nLet start working with google's library for numerical computation - Tensorflow\\n\\nThis library can do most of the numerical computation you do in deep learning operations with different approach of doing all operations.\\n\\nHere, instead of start processing imediately, we first define our parameters and boundaries that we want to compute. In tensorflow it is called graph\\nEverything intend to flow takes place in a computational graph and running andevaluation anything in that graph works in session. \\n\\nLets have fist look, and then we will define benefits and usefullnes of Tensorflow.\\n\\n\\n\""
      ]
     },
     "execution_count": 1,
     "metadata": {},
     "output_type": "execute_result"
    }
   ],
   "source": [
    "''' \n",
    "Introduction to Tensorflow\n",
    "\n",
    "Let start working with google's library for numerical computation - Tensorflow\n",
    "\n",
    "This library can do most of the numerical computation you do in deep learning operations with different approach of doing all operations.\n",
    "\n",
    "Here, instead of start processing imediately, we first define our parameters and boundaries that we want to compute. In tensorflow it is called graph\n",
    "Everything intend to flow takes place in a computational graph and running andevaluation anything in that graph works in session. \n",
    "\n",
    "Lets have fist look, and then we will define benefits and usefullnes of Tensorflow.\n",
    "\n",
    "\n",
    "'''"
   ]
  },
  {
   "cell_type": "code",
   "execution_count": 2,
   "metadata": {
    "collapsed": true
   },
   "outputs": [],
   "source": [
    "import tensorflow as tf\n",
    "import numpy as np"
   ]
  },
  {
   "cell_type": "code",
   "execution_count": 3,
   "metadata": {
    "collapsed": false
   },
   "outputs": [
    {
     "data": {
      "text/plain": [
       "\"\\nLet's first create range of numbers. We can use linspace() from numpy which can do the same. \\n\""
      ]
     },
     "execution_count": 3,
     "metadata": {},
     "output_type": "execute_result"
    }
   ],
   "source": [
    "'''\n",
    "Let's first create range of numbers. We can use linspace() from numpy which can do the same. \n",
    "'''"
   ]
  },
  {
   "cell_type": "code",
   "execution_count": 4,
   "metadata": {
    "collapsed": false
   },
   "outputs": [
    {
     "name": "stdout",
     "output_type": "stream",
     "text": [
      "[-5.         -4.95983936 -4.91967871 -4.87951807 -4.83935743 -4.79919679\n",
      " -4.75903614 -4.7188755  -4.67871486 -4.63855422 -4.59839357 -4.55823293\n",
      " -4.51807229 -4.47791165 -4.437751   -4.39759036 -4.35742972 -4.31726908\n",
      " -4.27710843 -4.23694779 -4.19678715 -4.15662651 -4.11646586 -4.07630522\n",
      " -4.03614458 -3.99598394 -3.95582329 -3.91566265 -3.87550201 -3.83534137\n",
      " -3.79518072 -3.75502008 -3.71485944 -3.6746988  -3.63453815 -3.59437751\n",
      " -3.55421687 -3.51405622 -3.47389558 -3.43373494 -3.3935743  -3.35341365\n",
      " -3.31325301 -3.27309237 -3.23293173 -3.19277108 -3.15261044 -3.1124498\n",
      " -3.07228916 -3.03212851 -2.99196787 -2.95180723 -2.91164659 -2.87148594\n",
      " -2.8313253  -2.79116466 -2.75100402 -2.71084337 -2.67068273 -2.63052209\n",
      " -2.59036145 -2.5502008  -2.51004016 -2.46987952 -2.42971888 -2.38955823\n",
      " -2.34939759 -2.30923695 -2.26907631 -2.22891566 -2.18875502 -2.14859438\n",
      " -2.10843373 -2.06827309 -2.02811245 -1.98795181 -1.94779116 -1.90763052\n",
      " -1.86746988 -1.82730924 -1.78714859 -1.74698795 -1.70682731 -1.66666667\n",
      " -1.62650602 -1.58634538 -1.54618474 -1.5060241  -1.46586345 -1.42570281\n",
      " -1.38554217 -1.34538153 -1.30522088 -1.26506024 -1.2248996  -1.18473896\n",
      " -1.14457831 -1.10441767 -1.06425703 -1.02409639 -0.98393574 -0.9437751\n",
      " -0.90361446 -0.86345382 -0.82329317 -0.78313253 -0.74297189 -0.70281124\n",
      " -0.6626506  -0.62248996 -0.58232932 -0.54216867 -0.50200803 -0.46184739\n",
      " -0.42168675 -0.3815261  -0.34136546 -0.30120482 -0.26104418 -0.22088353\n",
      " -0.18072289 -0.14056225 -0.10040161 -0.06024096 -0.02008032  0.02008032\n",
      "  0.06024096  0.10040161  0.14056225  0.18072289  0.22088353  0.26104418\n",
      "  0.30120482  0.34136546  0.3815261   0.42168675  0.46184739  0.50200803\n",
      "  0.54216867  0.58232932  0.62248996  0.6626506   0.70281124  0.74297189\n",
      "  0.78313253  0.82329317  0.86345382  0.90361446  0.9437751   0.98393574\n",
      "  1.02409639  1.06425703  1.10441767  1.14457831  1.18473896  1.2248996\n",
      "  1.26506024  1.30522088  1.34538153  1.38554217  1.42570281  1.46586345\n",
      "  1.5060241   1.54618474  1.58634538  1.62650602  1.66666667  1.70682731\n",
      "  1.74698795  1.78714859  1.82730924  1.86746988  1.90763052  1.94779116\n",
      "  1.98795181  2.02811245  2.06827309  2.10843373  2.14859438  2.18875502\n",
      "  2.22891566  2.26907631  2.30923695  2.34939759  2.38955823  2.42971888\n",
      "  2.46987952  2.51004016  2.5502008   2.59036145  2.63052209  2.67068273\n",
      "  2.71084337  2.75100402  2.79116466  2.8313253   2.87148594  2.91164659\n",
      "  2.95180723  2.99196787  3.03212851  3.07228916  3.1124498   3.15261044\n",
      "  3.19277108  3.23293173  3.27309237  3.31325301  3.35341365  3.3935743\n",
      "  3.43373494  3.47389558  3.51405622  3.55421687  3.59437751  3.63453815\n",
      "  3.6746988   3.71485944  3.75502008  3.79518072  3.83534137  3.87550201\n",
      "  3.91566265  3.95582329  3.99598394  4.03614458  4.07630522  4.11646586\n",
      "  4.15662651  4.19678715  4.23694779  4.27710843  4.31726908  4.35742972\n",
      "  4.39759036  4.437751    4.47791165  4.51807229  4.55823293  4.59839357\n",
      "  4.63855422  4.67871486  4.7188755   4.75903614  4.79919679  4.83935743\n",
      "  4.87951807  4.91967871  4.95983936  5.        ]\n"
     ]
    }
   ],
   "source": [
    "x = np.linspace(-5.0, 5.0, 250)\n",
    "print x"
   ]
  },
  {
   "cell_type": "code",
   "execution_count": 5,
   "metadata": {
    "collapsed": false
   },
   "outputs": [
    {
     "data": {
      "text/plain": [
       "'\\nAn array of 100 numbers equally spaced from -10.0 to 10.0\\nWe know that numpy arrays have shape, and we can determine using shape instance. In our case we have 1D array with 100 values in it.\\nWe can also determine data type of an element of an array using dtype instance. which is float64 in this case.\\n'"
      ]
     },
     "execution_count": 5,
     "metadata": {},
     "output_type": "execute_result"
    }
   ],
   "source": [
    "'''\n",
    "An array of 100 numbers equally spaced from -10.0 to 10.0\n",
    "We know that numpy arrays have shape, and we can determine using shape instance. In our case we have 1D array with 100 values in it.\n",
    "We can also determine data type of an element of an array using dtype instance. which is float64 in this case.\n",
    "'''"
   ]
  },
  {
   "cell_type": "code",
   "execution_count": 6,
   "metadata": {
    "collapsed": false
   },
   "outputs": [
    {
     "name": "stdout",
     "output_type": "stream",
     "text": [
      "(250,)\n"
     ]
    }
   ],
   "source": [
    "print x.shape"
   ]
  },
  {
   "cell_type": "code",
   "execution_count": 7,
   "metadata": {
    "collapsed": false
   },
   "outputs": [
    {
     "name": "stdout",
     "output_type": "stream",
     "text": [
      "float64\n"
     ]
    }
   ],
   "source": [
    "print x.dtype"
   ]
  },
  {
   "cell_type": "code",
   "execution_count": 8,
   "metadata": {
    "collapsed": false
   },
   "outputs": [
    {
     "data": {
      "text/plain": [
       "'\\nTensorflow allows us to do same operation but in their own way. It also has linear space function. Lets make the same using tensorflow.\\n'"
      ]
     },
     "execution_count": 8,
     "metadata": {},
     "output_type": "execute_result"
    }
   ],
   "source": [
    "'''\n",
    "Tensorflow allows us to do same operation but in their own way. It also has linear space function. Lets make the same using tensorflow.\n",
    "'''"
   ]
  },
  {
   "cell_type": "code",
   "execution_count": 9,
   "metadata": {
    "collapsed": true
   },
   "outputs": [],
   "source": [
    "X = tf.linspace(-1.0, 1.0, 100)"
   ]
  },
  {
   "cell_type": "code",
   "execution_count": 10,
   "metadata": {
    "collapsed": false
   },
   "outputs": [
    {
     "data": {
      "text/plain": [
       "'\\nHere instade of creating an array it creats TF tensor. Lets see how it looks like.\\n'"
      ]
     },
     "execution_count": 10,
     "metadata": {},
     "output_type": "execute_result"
    }
   ],
   "source": [
    "'''\n",
    "Here instade of creating an array it creats TF tensor. Lets see how it looks like.\n",
    "'''"
   ]
  },
  {
   "cell_type": "code",
   "execution_count": 11,
   "metadata": {
    "collapsed": false
   },
   "outputs": [
    {
     "name": "stdout",
     "output_type": "stream",
     "text": [
      "Tensor(\"LinSpace:0\", shape=(100,), dtype=float32)\n"
     ]
    }
   ],
   "source": [
    "print X"
   ]
  },
  {
   "cell_type": "code",
   "execution_count": 12,
   "metadata": {
    "collapsed": false
   },
   "outputs": [
    {
     "data": {
      "text/plain": [
       "'\\nIt is TF tensor with name \"LinSpace:0\", with shape (100,) and data type float32(Instead of float64)\\n\\nWhenever you see \":0\" that means its an output of a function. In our case it says output of \"linspace\" function.\\nTF tensor is same as a numpy array. But unlike the Numpy array there is no value printed here. That is because it is not computed.\\nIt is just refers as an output of a TF operation which is already added to Tensorflow computational graph. Tensorflow, add all the operation to its default computational graph.\\nLets request that computational graph for this operation. Here is it added to default graph where out all our operation have been added.\\nFrom this graph we can see list of operation that have been added in this process. \\n'"
      ]
     },
     "execution_count": 12,
     "metadata": {},
     "output_type": "execute_result"
    }
   ],
   "source": [
    "'''\n",
    "It is TF tensor with name \"LinSpace:0\", with shape (100,) and data type float32(Instead of float64)\n",
    "\n",
    "Whenever you see \":0\" that means its an output of a function. In our case it says output of \"linspace\" function.\n",
    "TF tensor is same as a numpy array. But unlike the Numpy array there is no value printed here. That is because it is not computed.\n",
    "It is just refers as an output of a TF operation which is already added to Tensorflow computational graph. Tensorflow, add all the operation to its default computational graph.\n",
    "Lets request that computational graph for this operation. Here is it added to default graph where out all our operation have been added.\n",
    "From this graph we can see list of operation that have been added in this process. \n",
    "'''"
   ]
  },
  {
   "cell_type": "code",
   "execution_count": 13,
   "metadata": {
    "collapsed": true
   },
   "outputs": [],
   "source": [
    "d_graph = tf.get_default_graph()"
   ]
  },
  {
   "cell_type": "code",
   "execution_count": 14,
   "metadata": {
    "collapsed": false
   },
   "outputs": [
    {
     "data": {
      "text/plain": [
       "[u'LinSpace/start', u'LinSpace/stop', u'LinSpace/num', u'LinSpace']"
      ]
     },
     "execution_count": 14,
     "metadata": {},
     "output_type": "execute_result"
    }
   ],
   "source": [
    "[operation.name for operation in d_graph.get_operations()]"
   ]
  },
  {
   "cell_type": "code",
   "execution_count": 15,
   "metadata": {
    "collapsed": false
   },
   "outputs": [
    {
     "data": {
      "text/plain": [
       "'\\nHere you can see that few operations have been added to graph by LinSpace function and in the end it runs LinSpace function.\\nWe can get output of any operation by just giving name of Tensor.\\nLets see...\\n'"
      ]
     },
     "execution_count": 15,
     "metadata": {},
     "output_type": "execute_result"
    }
   ],
   "source": [
    "'''\n",
    "Here you can see that few operations have been added to graph by LinSpace function and in the end it runs LinSpace function.\n",
    "We can get output of any operation by just giving name of Tensor.\n",
    "Lets see...\n",
    "'''"
   ]
  },
  {
   "cell_type": "code",
   "execution_count": 16,
   "metadata": {
    "collapsed": false
   },
   "outputs": [
    {
     "data": {
      "text/plain": [
       "<tf.Tensor 'LinSpace:0' shape=(100,) dtype=float32>"
      ]
     },
     "execution_count": 16,
     "metadata": {},
     "output_type": "execute_result"
    }
   ],
   "source": [
    "d_graph.get_tensor_by_name('LinSpace' + ':0')"
   ]
  },
  {
   "cell_type": "code",
   "execution_count": 17,
   "metadata": {
    "collapsed": false
   },
   "outputs": [
    {
     "data": {
      "text/plain": [
       "'\\nHere I have requested TF tensor that comes from operation LinSpace. So if you remember the result of TF operation is a TF tensor. \\nIt keeps same name with same shape and same dtype in it.\\n\\nIn order to compute any operation in Tensorflow, we need to create TF session. TF session evaluate the TF graph. \\n\\nLets see how this works...\\n\\n'"
      ]
     },
     "execution_count": 17,
     "metadata": {},
     "output_type": "execute_result"
    }
   ],
   "source": [
    "'''\n",
    "Here I have requested TF tensor that comes from operation LinSpace. So if you remember the result of TF operation is a TF tensor. \n",
    "It keeps same name with same shape and same dtype in it.\n",
    "\n",
    "In order to compute any operation in Tensorflow, we need to create TF session. TF session evaluate the TF graph. \n",
    "\n",
    "Lets see how this works...\n",
    "\n",
    "'''"
   ]
  },
  {
   "cell_type": "code",
   "execution_count": 18,
   "metadata": {
    "collapsed": true
   },
   "outputs": [],
   "source": [
    "sess = tf.Session()"
   ]
  },
  {
   "cell_type": "code",
   "execution_count": 19,
   "metadata": {
    "collapsed": false
   },
   "outputs": [
    {
     "data": {
      "text/plain": [
       "'\\nNow we can tell this session to compute anything we want. It must be created in tensorflow graph first. \\n'"
      ]
     },
     "execution_count": 19,
     "metadata": {},
     "output_type": "execute_result"
    }
   ],
   "source": [
    "'''\n",
    "Now we can tell this session to compute anything we want. It must be created in tensorflow graph first. \n",
    "'''"
   ]
  },
  {
   "cell_type": "code",
   "execution_count": 20,
   "metadata": {
    "collapsed": true
   },
   "outputs": [],
   "source": [
    "result_X = sess.run(X)"
   ]
  },
  {
   "cell_type": "code",
   "execution_count": 21,
   "metadata": {
    "collapsed": false
   },
   "outputs": [
    {
     "name": "stdout",
     "output_type": "stream",
     "text": [
      "[-1.         -0.97979796 -0.95959598 -0.93939394 -0.9191919  -0.89898992\n",
      " -0.87878788 -0.85858583 -0.83838385 -0.81818181 -0.79797983 -0.77777779\n",
      " -0.75757575 -0.73737371 -0.71717173 -0.69696969 -0.67676771 -0.65656567\n",
      " -0.63636363 -0.61616158 -0.5959596  -0.57575756 -0.55555558 -0.53535354\n",
      " -0.5151515  -0.49494952 -0.47474748 -0.45454544 -0.43434346 -0.41414142\n",
      " -0.39393938 -0.37373739 -0.35353535 -0.33333331 -0.31313133 -0.29292929\n",
      " -0.27272725 -0.25252527 -0.23232323 -0.21212119 -0.19191921 -0.17171717\n",
      " -0.15151513 -0.13131315 -0.1111111  -0.09090906 -0.07070708 -0.05050504\n",
      " -0.030303   -0.01010102  0.01010096  0.030303    0.05050504  0.07070708\n",
      "  0.09090912  0.11111116  0.13131309  0.15151513  0.17171717  0.19191921\n",
      "  0.21212125  0.23232329  0.25252521  0.27272725  0.29292929  0.31313133\n",
      "  0.33333337  0.35353529  0.37373734  0.39393938  0.41414142  0.43434346\n",
      "  0.4545455   0.47474742  0.49494946  0.5151515   0.53535354  0.55555558\n",
      "  0.57575762  0.59595954  0.61616158  0.63636363  0.65656567  0.67676771\n",
      "  0.69696975  0.71717167  0.73737371  0.75757575  0.77777779  0.79797983\n",
      "  0.81818187  0.83838379  0.85858583  0.87878788  0.89898992  0.91919196\n",
      "  0.939394    0.95959592  0.97979796  1.        ]\n"
     ]
    }
   ],
   "source": [
    "print result_X"
   ]
  },
  {
   "cell_type": "code",
   "execution_count": 22,
   "metadata": {
    "collapsed": false
   },
   "outputs": [
    {
     "data": {
      "text/plain": [
       "'\\nAlternatively, we can also evaluate this tensor in given session by eval() function.\\n'"
      ]
     },
     "execution_count": 22,
     "metadata": {},
     "output_type": "execute_result"
    }
   ],
   "source": [
    "'''\n",
    "Alternatively, we can also evaluate this tensor in given session by eval() function.\n",
    "'''"
   ]
  },
  {
   "cell_type": "code",
   "execution_count": 23,
   "metadata": {
    "collapsed": true
   },
   "outputs": [],
   "source": [
    "result_X = X.eval(session = sess)"
   ]
  },
  {
   "cell_type": "code",
   "execution_count": 24,
   "metadata": {
    "collapsed": false
   },
   "outputs": [
    {
     "name": "stdout",
     "output_type": "stream",
     "text": [
      "[-1.         -0.97979796 -0.95959598 -0.93939394 -0.9191919  -0.89898992\n",
      " -0.87878788 -0.85858583 -0.83838385 -0.81818181 -0.79797983 -0.77777779\n",
      " -0.75757575 -0.73737371 -0.71717173 -0.69696969 -0.67676771 -0.65656567\n",
      " -0.63636363 -0.61616158 -0.5959596  -0.57575756 -0.55555558 -0.53535354\n",
      " -0.5151515  -0.49494952 -0.47474748 -0.45454544 -0.43434346 -0.41414142\n",
      " -0.39393938 -0.37373739 -0.35353535 -0.33333331 -0.31313133 -0.29292929\n",
      " -0.27272725 -0.25252527 -0.23232323 -0.21212119 -0.19191921 -0.17171717\n",
      " -0.15151513 -0.13131315 -0.1111111  -0.09090906 -0.07070708 -0.05050504\n",
      " -0.030303   -0.01010102  0.01010096  0.030303    0.05050504  0.07070708\n",
      "  0.09090912  0.11111116  0.13131309  0.15151513  0.17171717  0.19191921\n",
      "  0.21212125  0.23232329  0.25252521  0.27272725  0.29292929  0.31313133\n",
      "  0.33333337  0.35353529  0.37373734  0.39393938  0.41414142  0.43434346\n",
      "  0.4545455   0.47474742  0.49494946  0.5151515   0.53535354  0.55555558\n",
      "  0.57575762  0.59595954  0.61616158  0.63636363  0.65656567  0.67676771\n",
      "  0.69696975  0.71717167  0.73737371  0.75757575  0.77777779  0.79797983\n",
      "  0.81818187  0.83838379  0.85858583  0.87878788  0.89898992  0.91919196\n",
      "  0.939394    0.95959592  0.97979796  1.        ]\n"
     ]
    }
   ],
   "source": [
    "print result_X"
   ]
  },
  {
   "cell_type": "code",
   "execution_count": 25,
   "metadata": {
    "collapsed": false
   },
   "outputs": [
    {
     "data": {
      "text/plain": [
       "'\\nTo close the session we can use close() function from tensorflow. \\n'"
      ]
     },
     "execution_count": 25,
     "metadata": {},
     "output_type": "execute_result"
    }
   ],
   "source": [
    "'''\n",
    "To close the session we can use close() function from tensorflow. \n",
    "'''"
   ]
  },
  {
   "cell_type": "code",
   "execution_count": 26,
   "metadata": {
    "collapsed": true
   },
   "outputs": [],
   "source": [
    "sess.close()"
   ]
  },
  {
   "cell_type": "code",
   "execution_count": 27,
   "metadata": {
    "collapsed": false
   },
   "outputs": [
    {
     "data": {
      "text/plain": [
       "'\\nWe could also explicitely tell this session which graph to compute. \\n'"
      ]
     },
     "execution_count": 27,
     "metadata": {},
     "output_type": "execute_result"
    }
   ],
   "source": [
    "'''\n",
    "We could also explicitely tell this session which graph to compute. \n",
    "'''"
   ]
  },
  {
   "cell_type": "code",
   "execution_count": 28,
   "metadata": {
    "collapsed": true
   },
   "outputs": [],
   "source": [
    "sess = tf.Session(graph = tf.get_default_graph())"
   ]
  },
  {
   "cell_type": "code",
   "execution_count": 29,
   "metadata": {
    "collapsed": false
   },
   "outputs": [
    {
     "data": {
      "text/plain": [
       "'\\nWe could have created a new graph like so...\\n'"
      ]
     },
     "execution_count": 29,
     "metadata": {},
     "output_type": "execute_result"
    }
   ],
   "source": [
    "'''\n",
    "We could have created a new graph like so...\n",
    "'''"
   ]
  },
  {
   "cell_type": "code",
   "execution_count": 30,
   "metadata": {
    "collapsed": true
   },
   "outputs": [],
   "source": [
    "new_g = tf.Graph()"
   ]
  },
  {
   "cell_type": "code",
   "execution_count": 31,
   "metadata": {
    "collapsed": false
   },
   "outputs": [
    {
     "data": {
      "text/plain": [
       "'\\nCreate new sessino to compute this new graph...to make it simple we are using interactive iphthon consol..so we can also create interactive session.\\nSo we dont need to pass the actual session object or evaluate.\\n'"
      ]
     },
     "execution_count": 31,
     "metadata": {},
     "output_type": "execute_result"
    }
   ],
   "source": [
    "'''\n",
    "Create new sessino to compute this new graph...to make it simple we are using interactive iphthon consol..so we can also create interactive session.\n",
    "So we dont need to pass the actual session object or evaluate.\n",
    "'''"
   ]
  },
  {
   "cell_type": "code",
   "execution_count": 32,
   "metadata": {
    "collapsed": true
   },
   "outputs": [],
   "source": [
    "sess = tf.InteractiveSession()"
   ]
  },
  {
   "cell_type": "code",
   "execution_count": 33,
   "metadata": {
    "collapsed": false
   },
   "outputs": [
    {
     "data": {
      "text/plain": [
       "'\\nNow lets evaluate the X, here I dont need to explicitly define the session and I can use eval() to evaluate it.\\n'"
      ]
     },
     "execution_count": 33,
     "metadata": {},
     "output_type": "execute_result"
    }
   ],
   "source": [
    "'''\n",
    "Now lets evaluate the X, here I dont need to explicitly define the session and I can use eval() to evaluate it.\n",
    "'''"
   ]
  },
  {
   "cell_type": "code",
   "execution_count": 34,
   "metadata": {
    "collapsed": false
   },
   "outputs": [
    {
     "data": {
      "text/plain": [
       "array([-1.        , -0.97979796, -0.95959598, -0.93939394, -0.9191919 ,\n",
       "       -0.89898992, -0.87878788, -0.85858583, -0.83838385, -0.81818181,\n",
       "       -0.79797983, -0.77777779, -0.75757575, -0.73737371, -0.71717173,\n",
       "       -0.69696969, -0.67676771, -0.65656567, -0.63636363, -0.61616158,\n",
       "       -0.5959596 , -0.57575756, -0.55555558, -0.53535354, -0.5151515 ,\n",
       "       -0.49494952, -0.47474748, -0.45454544, -0.43434346, -0.41414142,\n",
       "       -0.39393938, -0.37373739, -0.35353535, -0.33333331, -0.31313133,\n",
       "       -0.29292929, -0.27272725, -0.25252527, -0.23232323, -0.21212119,\n",
       "       -0.19191921, -0.17171717, -0.15151513, -0.13131315, -0.1111111 ,\n",
       "       -0.09090906, -0.07070708, -0.05050504, -0.030303  , -0.01010102,\n",
       "        0.01010096,  0.030303  ,  0.05050504,  0.07070708,  0.09090912,\n",
       "        0.11111116,  0.13131309,  0.15151513,  0.17171717,  0.19191921,\n",
       "        0.21212125,  0.23232329,  0.25252521,  0.27272725,  0.29292929,\n",
       "        0.31313133,  0.33333337,  0.35353529,  0.37373734,  0.39393938,\n",
       "        0.41414142,  0.43434346,  0.4545455 ,  0.47474742,  0.49494946,\n",
       "        0.5151515 ,  0.53535354,  0.55555558,  0.57575762,  0.59595954,\n",
       "        0.61616158,  0.63636363,  0.65656567,  0.67676771,  0.69696975,\n",
       "        0.71717167,  0.73737371,  0.75757575,  0.77777779,  0.79797983,\n",
       "        0.81818187,  0.83838379,  0.85858583,  0.87878788,  0.89898992,\n",
       "        0.91919196,  0.939394  ,  0.95959592,  0.97979796,  1.        ], dtype=float32)"
      ]
     },
     "execution_count": 34,
     "metadata": {},
     "output_type": "execute_result"
    }
   ],
   "source": [
    "X.eval()"
   ]
  },
  {
   "cell_type": "code",
   "execution_count": 35,
   "metadata": {
    "collapsed": false
   },
   "outputs": [
    {
     "data": {
      "text/plain": [
       "'\\nSome usefull difference between numpy and tensorflow is lets say shape. In numpy array we call .shape but in tensorflow we need to compute that shapes, using get shape method\\n'"
      ]
     },
     "execution_count": 35,
     "metadata": {},
     "output_type": "execute_result"
    }
   ],
   "source": [
    "'''\n",
    "Some usefull difference between numpy and tensorflow is lets say shape. In numpy array we call .shape but in tensorflow we need to compute that shapes, using get shape method\n",
    "'''"
   ]
  },
  {
   "cell_type": "code",
   "execution_count": 36,
   "metadata": {
    "collapsed": false
   },
   "outputs": [
    {
     "name": "stdout",
     "output_type": "stream",
     "text": [
      "(100,)\n"
     ]
    }
   ],
   "source": [
    "print X.get_shape()"
   ]
  },
  {
   "cell_type": "code",
   "execution_count": 37,
   "metadata": {
    "collapsed": false
   },
   "outputs": [
    {
     "data": {
      "text/plain": [
       "'\\nOr In more friendly way, we can request the shape as List.\\n'"
      ]
     },
     "execution_count": 37,
     "metadata": {},
     "output_type": "execute_result"
    }
   ],
   "source": [
    "'''\n",
    "Or In more friendly way, we can request the shape as List.\n",
    "'''"
   ]
  },
  {
   "cell_type": "code",
   "execution_count": 38,
   "metadata": {
    "collapsed": false
   },
   "outputs": [
    {
     "name": "stdout",
     "output_type": "stream",
     "text": [
      "[100]\n"
     ]
    }
   ],
   "source": [
    "print X.get_shape().as_list()"
   ]
  },
  {
   "cell_type": "code",
   "execution_count": 39,
   "metadata": {
    "collapsed": false
   },
   "outputs": [
    {
     "data": {
      "text/plain": [
       "'\\nNow, we are trying to create a set of operations. Lets create most basic Gaussian curve. Its gonna be normalized curv\\nwith the data is centered around the mean of zero. It is also called bell curve. \\n\\nLets create gaussian with the mean of zero and standard deviation of one.\\n'"
      ]
     },
     "execution_count": 39,
     "metadata": {},
     "output_type": "execute_result"
    }
   ],
   "source": [
    "'''\n",
    "Now, we are trying to create a set of operations. Lets create most basic Gaussian curve. Its gonna be normalized curv\n",
    "with the data is centered around the mean of zero. It is also called bell curve. \n",
    "\n",
    "Lets create gaussian with the mean of zero and standard deviation of one.\n",
    "'''"
   ]
  },
  {
   "cell_type": "code",
   "execution_count": 40,
   "metadata": {
    "collapsed": true
   },
   "outputs": [],
   "source": [
    "mean = 0\n",
    "sigma = 2.0 # Standard Deviation"
   ]
  },
  {
   "cell_type": "code",
   "execution_count": 41,
   "metadata": {
    "collapsed": false
   },
   "outputs": [],
   "source": [
    "z = (tf.exp(tf.negative(tf.pow((X-mean), 2.0)/(2.0 * tf.pow(sigma,2.0))))*(1.0/(sigma*tf.sqrt(2.0*3.1415))))"
   ]
  },
  {
   "cell_type": "code",
   "execution_count": 42,
   "metadata": {
    "collapsed": false
   },
   "outputs": [
    {
     "data": {
      "text/plain": [
       "\"\\nAs we saw before, we haven't compute anythin. We just created a tensor and added bumch of operation to tensor flow's default computational graph. \\nWhenever we want result of operations that we have defined, we need to create session and have to ask part of default graph which part we are interested in.\\nBUT here we have created an Interactive session earlier, we can just say name of the tensor that we are interested in and call the eval() function.\\n\""
      ]
     },
     "execution_count": 42,
     "metadata": {},
     "output_type": "execute_result"
    }
   ],
   "source": [
    "'''\n",
    "As we saw before, we haven't compute anythin. We just created a tensor and added bumch of operation to tensor flow's default computational graph. \n",
    "Whenever we want result of operations that we have defined, we need to create session and have to ask part of default graph which part we are interested in.\n",
    "BUT here we have created an Interactive session earlier, we can just say name of the tensor that we are interested in and call the eval() function.\n",
    "'''"
   ]
  },
  {
   "cell_type": "code",
   "execution_count": 43,
   "metadata": {
    "collapsed": true
   },
   "outputs": [],
   "source": [
    "ress = z.eval()"
   ]
  },
  {
   "cell_type": "code",
   "execution_count": 44,
   "metadata": {
    "collapsed": false
   },
   "outputs": [
    {
     "name": "stdout",
     "output_type": "stream",
     "text": [
      "[ 0.17603526  0.17691755  0.17778611  0.17864072  0.17948113  0.18030709\n",
      "  0.18111837  0.18191473  0.18269597  0.18346183  0.1842121   0.18494658\n",
      "  0.18566503  0.18636727  0.18705307  0.18772225  0.18837459  0.18900992\n",
      "  0.18962805  0.19022878  0.19081193  0.19137737  0.19192488  0.19245432\n",
      "  0.19296555  0.19345838  0.1939327   0.19438833  0.19482516  0.19524305\n",
      "  0.19564186  0.1960215   0.19638184  0.19672276  0.19704418  0.19734597\n",
      "  0.19762805  0.19789037  0.19813281  0.1983553   0.19855779  0.19874021\n",
      "  0.19890249  0.1990446   0.19916649  0.19926812  0.19934946  0.1994105\n",
      "  0.19945118  0.19947153  0.19947153  0.19945118  0.1994105   0.19934946\n",
      "  0.19926812  0.19916649  0.1990446   0.19890249  0.19874021  0.19855779\n",
      "  0.1983553   0.19813281  0.19789037  0.19762805  0.19734597  0.19704418\n",
      "  0.19672276  0.19638184  0.1960215   0.19564186  0.19524305  0.19482516\n",
      "  0.19438833  0.1939327   0.19345839  0.19296555  0.19245432  0.19192488\n",
      "  0.19137736  0.19081193  0.19022878  0.18962805  0.18900992  0.18837459\n",
      "  0.18772225  0.18705307  0.18636727  0.18566503  0.18494658  0.1842121\n",
      "  0.18346183  0.18269597  0.18191473  0.18111837  0.18030709  0.17948113\n",
      "  0.17864072  0.17778613  0.17691755  0.17603526]\n"
     ]
    }
   ],
   "source": [
    "print ress"
   ]
  },
  {
   "cell_type": "markdown",
   "metadata": {},
   "source": [
    "'''\n",
    "To plot this values we need to import matplotlib library\n",
    "'''"
   ]
  },
  {
   "cell_type": "code",
   "execution_count": 45,
   "metadata": {
    "collapsed": false
   },
   "outputs": [
    {
     "name": "stdout",
     "output_type": "stream",
     "text": [
      "Using matplotlib backend: agg\n",
      "Populating the interactive namespace from numpy and matplotlib\n"
     ]
    },
    {
     "name": "stderr",
     "output_type": "stream",
     "text": [
      "/usr/local/lib/python2.7/dist-packages/IPython/core/magics/pylab.py:161: UserWarning: pylab import has clobbered these variables: ['mean']\n",
      "`%matplotlib` prevents importing * from pylab and numpy\n",
      "  \"\\n`%matplotlib` prevents importing * from pylab and numpy\"\n"
     ]
    }
   ],
   "source": [
    "%pylab"
   ]
  },
  {
   "cell_type": "code",
   "execution_count": 46,
   "metadata": {
    "collapsed": false
   },
   "outputs": [
    {
     "data": {
      "text/plain": [
       "[<matplotlib.lines.Line2D at 0x7f24cc0be410>]"
      ]
     },
     "execution_count": 46,
     "metadata": {},
     "output_type": "execute_result"
    },
    {
     "data": {
      "image/png": "[encoded data removed]",
      "text/plain": [
       "<matplotlib.figure.Figure at 0x7f24cc11f950>"
      ]
     },
     "metadata": {},
     "output_type": "display_data"
    }
   ],
   "source": [
    "%matplotlib inline\n",
    "plt.plot(ress)"
   ]
  },
  {
   "cell_type": "code",
   "execution_count": 47,
   "metadata": {
    "collapsed": false
   },
   "outputs": [
    {
     "data": {
      "text/plain": [
       "\"\\nLets try and create 2D gaussian. We can do that by multiplying matrix with it's transpose. \\n\\n### PUT matrix multiplication link\\n\\n\""
      ]
     },
     "execution_count": 47,
     "metadata": {},
     "output_type": "execute_result"
    }
   ],
   "source": [
    "'''\n",
    "Lets try and create 2D gaussian. We can do that by multiplying matrix with it's transpose. \n",
    "\n",
    "### PUT matrix multiplication link\n",
    "\n",
    "'''"
   ]
  },
  {
   "cell_type": "code",
   "execution_count": 48,
   "metadata": {
    "collapsed": false
   },
   "outputs": [
    {
     "name": "stdout",
     "output_type": "stream",
     "text": [
      "100\n"
     ]
    }
   ],
   "source": [
    "size = z.get_shape().as_list()[0]\n",
    "print size"
   ]
  },
  {
   "cell_type": "code",
   "execution_count": 49,
   "metadata": {
    "collapsed": false
   },
   "outputs": [
    {
     "name": "stdout",
     "output_type": "stream",
     "text": [
      "Tensor(\"MatMul:0\", shape=(100, 100), dtype=float32)\n"
     ]
    }
   ],
   "source": [
    "z_2d = tf.matmul(tf.reshape(z,[size,1]), tf.reshape(z,[1,size]))\n",
    "print z_2d"
   ]
  },
  {
   "cell_type": "code",
   "execution_count": 50,
   "metadata": {
    "collapsed": false
   },
   "outputs": [
    {
     "data": {
      "text/plain": [
       "<matplotlib.image.AxesImage at 0x7f24ac0e1990>"
      ]
     },
     "execution_count": 50,
     "metadata": {},
     "output_type": "execute_result"
    },
    {
     "data": {
      "image/png": "[encoded data removed]",
      "text/plain": [
       "<matplotlib.figure.Figure at 0x7f24cc072390>"
      ]
     },
     "metadata": {},
     "output_type": "display_data"
    }
   ],
   "source": [
    "plt.imshow(z_2d.eval())"
   ]
  },
  {
   "cell_type": "code",
   "execution_count": 51,
   "metadata": {
    "collapsed": false
   },
   "outputs": [
    {
     "data": {
      "text/plain": [
       "'\\nHere, we take our gaussian in one dimention and multiply its transpose and the resultant gaussian would look like that.\\n'"
      ]
     },
     "execution_count": 51,
     "metadata": {},
     "output_type": "execute_result"
    }
   ],
   "source": [
    "'''\n",
    "Here, we take our gaussian in one dimention and multiply its transpose and the resultant gaussian would look like that.\n",
    "'''"
   ]
  },
  {
   "cell_type": "code",
   "execution_count": 52,
   "metadata": {
    "collapsed": false
   },
   "outputs": [
    {
     "data": {
      "text/plain": [
       "'\\nVery common operation that we will see in deep learning is convolution. Lets see what is convolution using a gaussian kernel that we have just created.\\nFor now we are going to filter an image using gaussian function. \\n\\nHere, at every location we will filter the image, it will average the imae values around it.\\nBy looking at gaussian curve we can say that it takes value of center and decresing as we go farther away from center.\\n\\nThis is called blurring effect. Lets first load an image. \\n\\nAt first we are going to need a grayscale image to begin with. We are using scikit-learn image dataset to play with. \\n'"
      ]
     },
     "execution_count": 52,
     "metadata": {},
     "output_type": "execute_result"
    }
   ],
   "source": [
    "'''\n",
    "Very common operation that we will see in deep learning is convolution. Lets see what is convolution using a gaussian kernel that we have just created.\n",
    "For now we are going to filter an image using gaussian function. \n",
    "\n",
    "Here, at every location we will filter the image, it will average the imae values around it.\n",
    "By looking at gaussian curve we can say that it takes value of center and decresing as we go farther away from center.\n",
    "\n",
    "This is called blurring effect. Lets first load an image. \n",
    "\n",
    "At first we are going to need a grayscale image to begin with. We are using scikit-learn image dataset to play with. \n",
    "'''"
   ]
  },
  {
   "cell_type": "code",
   "execution_count": 53,
   "metadata": {
    "collapsed": true
   },
   "outputs": [],
   "source": [
    "from skimage import data"
   ]
  },
  {
   "cell_type": "code",
   "execution_count": 54,
   "metadata": {
    "collapsed": false
   },
   "outputs": [
    {
     "data": {
      "text/plain": [
       "<matplotlib.image.AxesImage at 0x7f244b608110>"
      ]
     },
     "execution_count": 54,
     "metadata": {},
     "output_type": "execute_result"
    },
    {
     "data": {
      "image/png": "[encoded data removed]",
      "text/plain": [
       "<matplotlib.figure.Figure at 0x7f244b91b210>"
      ]
     },
     "metadata": {},
     "output_type": "display_data"
    }
   ],
   "source": [
    "camera = data.camera().astype(np.float32)\n",
    "plt.imshow(camera)"
   ]
  },
  {
   "cell_type": "code",
   "execution_count": 55,
   "metadata": {
    "collapsed": false
   },
   "outputs": [
    {
     "data": {
      "text/plain": [
       "<matplotlib.image.AxesImage at 0x7f244b54d650>"
      ]
     },
     "execution_count": 55,
     "metadata": {},
     "output_type": "execute_result"
    },
    {
     "data": {
      "image/png": "[encoded data removed]",
      "text/plain": [
       "<matplotlib.figure.Figure at 0x7f24cc0349d0>"
      ]
     },
     "metadata": {},
     "output_type": "display_data"
    }
   ],
   "source": [
    "plt.imshow(camera, cmap = 'gray')"
   ]
  },
  {
   "cell_type": "code",
   "execution_count": 56,
   "metadata": {
    "collapsed": false
   },
   "outputs": [
    {
     "data": {
      "text/plain": [
       "(512, 512)"
      ]
     },
     "execution_count": 56,
     "metadata": {},
     "output_type": "execute_result"
    }
   ],
   "source": [
    "camera.shape"
   ]
  },
  {
   "cell_type": "code",
   "execution_count": 57,
   "metadata": {
    "collapsed": false
   },
   "outputs": [
    {
     "data": {
      "text/plain": [
       "'\\nHere our image is two dimentional. When we perform any convolution operation in Tensorflow, we need our image to be in 4D.\\n\\nHere we are only loading one image, but remember if we load many images and combine them into a single Numpy array the resulting image has a shape\\n(number_of_images, height, width, channels). But as of now we have 2D image in gray scale to perform Tensorflow convolution, that means the shape will be(1,height, width,1)\\n\\nWe can use Numpy reshape function to reshape numpy array to 4D.\\n\\n'"
      ]
     },
     "execution_count": 57,
     "metadata": {},
     "output_type": "execute_result"
    }
   ],
   "source": [
    "'''\n",
    "Here our image is two dimentional. When we perform any convolution operation in Tensorflow, we need our image to be in 4D.\n",
    "\n",
    "Here we are only loading one image, but remember if we load many images and combine them into a single Numpy array the resulting image has a shape\n",
    "(number_of_images, height, width, channels). But as of now we have 2D image in gray scale to perform Tensorflow convolution, that means the shape will be(1,height, width,1)\n",
    "\n",
    "We can use Numpy reshape function to reshape numpy array to 4D.\n",
    "\n",
    "'''"
   ]
  },
  {
   "cell_type": "code",
   "execution_count": 58,
   "metadata": {
    "collapsed": true
   },
   "outputs": [],
   "source": [
    "camera_4d = camera.reshape([1, camera.shape[0], camera.shape[1], 1])"
   ]
  },
  {
   "cell_type": "code",
   "execution_count": 59,
   "metadata": {
    "collapsed": false
   },
   "outputs": [
    {
     "name": "stdout",
     "output_type": "stream",
     "text": [
      "[[[[ 156.]\n",
      "   [ 157.]\n",
      "   [ 160.]\n",
      "   ..., \n",
      "   [ 152.]\n",
      "   [ 152.]\n",
      "   [ 152.]]\n",
      "\n",
      "  [[ 156.]\n",
      "   [ 157.]\n",
      "   [ 159.]\n",
      "   ..., \n",
      "   [ 152.]\n",
      "   [ 152.]\n",
      "   [ 152.]]\n",
      "\n",
      "  [[ 158.]\n",
      "   [ 157.]\n",
      "   [ 156.]\n",
      "   ..., \n",
      "   [ 152.]\n",
      "   [ 152.]\n",
      "   [ 152.]]\n",
      "\n",
      "  ..., \n",
      "  [[ 121.]\n",
      "   [ 123.]\n",
      "   [ 126.]\n",
      "   ..., \n",
      "   [ 121.]\n",
      "   [ 113.]\n",
      "   [ 111.]]\n",
      "\n",
      "  [[ 121.]\n",
      "   [ 123.]\n",
      "   [ 126.]\n",
      "   ..., \n",
      "   [ 121.]\n",
      "   [ 113.]\n",
      "   [ 111.]]\n",
      "\n",
      "  [[ 121.]\n",
      "   [ 123.]\n",
      "   [ 126.]\n",
      "   ..., \n",
      "   [ 121.]\n",
      "   [ 113.]\n",
      "   [ 111.]]]]\n"
     ]
    }
   ],
   "source": [
    "print camera_4d"
   ]
  },
  {
   "cell_type": "code",
   "execution_count": 60,
   "metadata": {
    "collapsed": false
   },
   "outputs": [
    {
     "data": {
      "text/plain": [
       "(1, 512, 512, 1)"
      ]
     },
     "execution_count": 60,
     "metadata": {},
     "output_type": "execute_result"
    }
   ],
   "source": [
    "camera_4d.shape"
   ]
  },
  {
   "cell_type": "code",
   "execution_count": 61,
   "metadata": {
    "collapsed": false
   },
   "outputs": [
    {
     "data": {
      "text/plain": [
       "'\\nWe can also use tensorflow reshape function.\\n\\n'"
      ]
     },
     "execution_count": 61,
     "metadata": {},
     "output_type": "execute_result"
    }
   ],
   "source": [
    "'''\n",
    "We can also use tensorflow reshape function.\n",
    "\n",
    "'''"
   ]
  },
  {
   "cell_type": "code",
   "execution_count": 62,
   "metadata": {
    "collapsed": false
   },
   "outputs": [
    {
     "name": "stdout",
     "output_type": "stream",
     "text": [
      "Tensor(\"Reshape_2:0\", shape=(1, 512, 512, 1), dtype=float32)\n"
     ]
    }
   ],
   "source": [
    "camera_4d = tf.reshape(camera, [1, camera.shape[0], camera.shape[1], 1])\n",
    "print camera_4d"
   ]
  },
  {
   "cell_type": "code",
   "execution_count": 63,
   "metadata": {
    "collapsed": false
   },
   "outputs": [
    {
     "data": {
      "text/plain": [
       "[1, 512, 512, 1]"
      ]
     },
     "execution_count": 63,
     "metadata": {},
     "output_type": "execute_result"
    }
   ],
   "source": [
    "camera_4d.get_shape().as_list()"
   ]
  },
  {
   "cell_type": "code",
   "execution_count": 64,
   "metadata": {
    "collapsed": false
   },
   "outputs": [
    {
     "data": {
      "text/plain": [
       "\"\\nour gaussian two dimentional which is slightly different than our image dimentions.\\n\\nAs we know image's dimention represents as follow,\\n\\n[N, H, W, C]\\n\\nWhere, N = Number of images\\nH = Height of image\\nW = Width of image\\nC = Channel\\n\\n\\nBut in colvolution kernel dimentions represents as follow,\\n\\n[Kh, Kw, C, #F, ]\\n\\nWhere,\\nKh = Height of a kernel --> size variable in our case\\nKw = Width of a kernel --> size variable in our case\\nC = Channel\\n#F = Number of convolution filters\\n\\nin our case we are using onely one filer as output.\\n\\n\""
      ]
     },
     "execution_count": 64,
     "metadata": {},
     "output_type": "execute_result"
    }
   ],
   "source": [
    "'''\n",
    "our gaussian two dimentional which is slightly different than our image dimentions.\n",
    "\n",
    "As we know image's dimention represents as follow,\n",
    "\n",
    "[N, H, W, C]\n",
    "\n",
    "Where, N = Number of images\n",
    "H = Height of image\n",
    "W = Width of image\n",
    "C = Channel\n",
    "\n",
    "\n",
    "But in colvolution kernel dimentions represents as follow,\n",
    "\n",
    "[Kh, Kw, C, #F, ]\n",
    "\n",
    "Where,\n",
    "Kh = Height of a kernel --> size variable in our case\n",
    "Kw = Width of a kernel --> size variable in our case\n",
    "C = Channel\n",
    "#F = Number of convolution filters\n",
    "\n",
    "in our case we are using onely one filer as output.\n",
    "\n",
    "'''"
   ]
  },
  {
   "cell_type": "code",
   "execution_count": 65,
   "metadata": {
    "collapsed": false
   },
   "outputs": [
    {
     "name": "stdout",
     "output_type": "stream",
     "text": [
      "Tensor(\"Reshape_3:0\", shape=(100, 100, 1, 1), dtype=float32)\n"
     ]
    }
   ],
   "source": [
    "z_4d = tf.reshape(z_2d, [size,size,1,1])\n",
    "print z_4d"
   ]
  },
  {
   "cell_type": "code",
   "execution_count": 66,
   "metadata": {
    "collapsed": false
   },
   "outputs": [
    {
     "name": "stdout",
     "output_type": "stream",
     "text": [
      "[100, 100, 1, 1]\n"
     ]
    }
   ],
   "source": [
    "print z_4d.get_shape().as_list()"
   ]
  },
  {
   "cell_type": "code",
   "execution_count": 67,
   "metadata": {
    "collapsed": true
   },
   "outputs": [],
   "source": [
    "convolved = tf.nn.conv2d(camera_4d, z_4d, strides = [1,1,1,1], padding = 'SAME')"
   ]
  },
  {
   "cell_type": "code",
   "execution_count": 68,
   "metadata": {
    "collapsed": true
   },
   "outputs": [],
   "source": [
    "result_image = convolved.eval()"
   ]
  },
  {
   "cell_type": "code",
   "execution_count": 69,
   "metadata": {
    "collapsed": false
   },
   "outputs": [
    {
     "data": {
      "text/plain": [
       "(1, 512, 512, 1)"
      ]
     },
     "execution_count": 69,
     "metadata": {},
     "output_type": "execute_result"
    }
   ],
   "source": [
    "result_image.shape"
   ]
  },
  {
   "cell_type": "code",
   "execution_count": 70,
   "metadata": {
    "collapsed": false
   },
   "outputs": [
    {
     "data": {
      "text/plain": [
       "'\\nWe came across two new parameters of convolution. Strides and padding\\n\\nStride -> It says how to move our kernel across the image\\n    1X1X1X1 says that how to move by number of images, height of images, width of the image,and the number of channels.\\n    1X2X2X1 it says thtat we are going to skip every other pixel in image array,\\n    This is also call downsampling the image.\\nPadding -> It says what to do at the borders.\\n    \"SAME\"  same dimention going in -- same dimention going out.\\n    \"VALID\" no padding is used and image dimention will be changed.\\n    \\n    \\n    matplotlib cant handle 4D images. so to see the images we need to make image in its original shape. \\n    \\n    We can achive using this squeezing the singleton dimentions.\\n\\n'"
      ]
     },
     "execution_count": 70,
     "metadata": {},
     "output_type": "execute_result"
    }
   ],
   "source": [
    "'''\n",
    "We came across two new parameters of convolution. Strides and padding\n",
    "\n",
    "Stride -> It says how to move our kernel across the image\n",
    "    1X1X1X1 says that how to move by number of images, height of images, width of the image,and the number of channels.\n",
    "    1X2X2X1 it says thtat we are going to skip every other pixel in image array,\n",
    "    This is also call downsampling the image.\n",
    "Padding -> It says what to do at the borders.\n",
    "    \"SAME\"  same dimention going in -- same dimention going out.\n",
    "    \"VALID\" no padding is used and image dimention will be changed.\n",
    "    \n",
    "    \n",
    "    matplotlib cant handle 4D images. so to see the images we need to make image in its original shape. \n",
    "    \n",
    "    We can achive using this squeezing the singleton dimentions.\n",
    "\n",
    "'''"
   ]
  },
  {
   "cell_type": "code",
   "execution_count": 71,
   "metadata": {
    "collapsed": false
   },
   "outputs": [
    {
     "data": {
      "text/plain": [
       "<matplotlib.image.AxesImage at 0x7f2449cc6f50>"
      ]
     },
     "execution_count": 71,
     "metadata": {},
     "output_type": "execute_result"
    },
    {
     "data": {
      "image/png": "[encoded data removed]",
      "text/plain": [
       "<matplotlib.figure.Figure at 0x7f244b90ffd0>"
      ]
     },
     "metadata": {},
     "output_type": "display_data"
    }
   ],
   "source": [
    "plt.imshow(np.squeeze(result_image), cmap = 'gray')"
   ]
  },
  {
   "cell_type": "code",
   "execution_count": 72,
   "metadata": {
    "collapsed": false
   },
   "outputs": [
    {
     "data": {
      "text/plain": [
       "'\\nSecond way to specify exact dimentions that we want to visualize.\\n\\n'"
      ]
     },
     "execution_count": 72,
     "metadata": {},
     "output_type": "execute_result"
    }
   ],
   "source": [
    "'''\n",
    "Second way to specify exact dimentions that we want to visualize.\n",
    "\n",
    "'''"
   ]
  },
  {
   "cell_type": "code",
   "execution_count": 73,
   "metadata": {
    "collapsed": false
   },
   "outputs": [
    {
     "data": {
      "text/plain": [
       "<matplotlib.image.AxesImage at 0x7f244978ab50>"
      ]
     },
     "execution_count": 73,
     "metadata": {},
     "output_type": "execute_result"
    },
    {
     "data": {
      "image/png": "[encoded data removed]",
      "text/plain": [
       "<matplotlib.figure.Figure at 0x7f2449c40550>"
      ]
     },
     "metadata": {},
     "output_type": "display_data"
    }
   ],
   "source": [
    "plt.imshow(result_image[0, :, :, 0])"
   ]
  },
  {
   "cell_type": "code",
   "execution_count": 74,
   "metadata": {
    "collapsed": false
   },
   "outputs": [
    {
     "data": {
      "text/plain": [
       "'\\nNow we know how to use two dimentional gaussian and how to filger image with it.\\n\\nLets make anothe amazing convolution kernal call Gabor. This is more of similar to gaussian kernel except we use sine wave to modelate it. \\n\\n\\nIts modulation of gaussian and a sinewave. \\n\\n## Insert an Image of SineWave and Gaussian curve.\\n\\nLets create linspace function to create same range of gaussina.\\n\\n'"
      ]
     },
     "execution_count": 74,
     "metadata": {},
     "output_type": "execute_result"
    }
   ],
   "source": [
    "'''\n",
    "Now we know how to use two dimentional gaussian and how to filger image with it.\n",
    "\n",
    "Lets make anothe amazing convolution kernal call Gabor. This is more of similar to gaussian kernel except we use sine wave to modelate it. \n",
    "\n",
    "\n",
    "Its modulation of gaussian and a sinewave. \n",
    "\n",
    "## Insert an Image of SineWave and Gaussian curve.\n",
    "\n",
    "Lets create linspace function to create same range of gaussina.\n",
    "\n",
    "'''"
   ]
  },
  {
   "cell_type": "code",
   "execution_count": 75,
   "metadata": {
    "collapsed": false,
    "scrolled": true
   },
   "outputs": [
    {
     "data": {
      "text/plain": [
       "[<matplotlib.lines.Line2D at 0x7f24496cb190>]"
      ]
     },
     "execution_count": 75,
     "metadata": {},
     "output_type": "execute_result"
    },
    {
     "data": {
      "image/png": "[encoded data removed]",
      "text/plain": [
       "<matplotlib.figure.Figure at 0x7f24497af250>"
      ]
     },
     "metadata": {},
     "output_type": "display_data"
    }
   ],
   "source": [
    "Xs = tf.linspace(-3.0, 3.0, size)\n",
    "ys = tf.sin(Xs)\n",
    "plt.figure()\n",
    "plt.plot(ys.eval())"
   ]
  },
  {
   "cell_type": "code",
   "execution_count": 76,
   "metadata": {
    "collapsed": false
   },
   "outputs": [
    {
     "data": {
      "text/plain": [
       "'\\nFor multiplication we need to \\n\\n'"
      ]
     },
     "execution_count": 76,
     "metadata": {},
     "output_type": "execute_result"
    }
   ],
   "source": [
    "'''\n",
    "For multiplication we need to convert this one dimentional vector to matrix of nX1 dimentional matrix.\n",
    "\n",
    "'''"
   ]
  },
  {
   "cell_type": "code",
   "execution_count": 77,
   "metadata": {
    "collapsed": true
   },
   "outputs": [],
   "source": [
    "ys = tf.reshape(ys, [size,1])"
   ]
  },
  {
   "cell_type": "code",
   "execution_count": null,
   "metadata": {
    "collapsed": true
   },
   "outputs": [],
   "source": [
    "'''\n",
    "Now we can repeate this way accross this wave across the matrix by using multiplication of ones. \n",
    "'''"
   ]
  },
  {
   "cell_type": "code",
   "execution_count": 78,
   "metadata": {
    "collapsed": true
   },
   "outputs": [],
   "source": [
    "ones = tf.ones((1, size))"
   ]
  },
  {
   "cell_type": "code",
   "execution_count": 82,
   "metadata": {
    "collapsed": false
   },
   "outputs": [],
   "source": [
    "waveform = tf.multiply(ys, ones)"
   ]
  },
  {
   "cell_type": "code",
   "execution_count": 83,
   "metadata": {
    "collapsed": false
   },
   "outputs": [
    {
     "data": {
      "text/plain": [
       "<matplotlib.image.AxesImage at 0x7f244959bb90>"
      ]
     },
     "execution_count": 83,
     "metadata": {},
     "output_type": "execute_result"
    },
    {
     "data": {
      "image/png": "[encoded data removed]",
      "text/plain": [
       "<matplotlib.figure.Figure at 0x7f24496e6190>"
      ]
     },
     "metadata": {},
     "output_type": "display_data"
    }
   ],
   "source": [
    "plt.imshow(waveform.eval(), cmap = 'gray')"
   ]
  },
  {
   "cell_type": "code",
   "execution_count": null,
   "metadata": {
    "collapsed": true
   },
   "outputs": [],
   "source": [
    "'''\n",
    "We can dorectly multiply our old gaussian kernel by this waveform and get the Gabore kernel.\n",
    "'''"
   ]
  },
  {
   "cell_type": "code",
   "execution_count": 85,
   "metadata": {
    "collapsed": false
   },
   "outputs": [
    {
     "data": {
      "text/plain": [
       "<matplotlib.image.AxesImage at 0x7f24494da710>"
      ]
     },
     "execution_count": 85,
     "metadata": {},
     "output_type": "execute_result"
    },
    {
     "data": {
      "image/png": "[encoded data removed]",
      "text/plain": [
       "<matplotlib.figure.Figure at 0x7f244962b0d0>"
      ]
     },
     "metadata": {},
     "output_type": "display_data"
    }
   ],
   "source": [
    "Gabor_kernel = tf.multiply(waveform, z_2d)\n",
    "plt.imshow(Gabor_kernel.eval(), cmap = 'gray')"
   ]
  },
  {
   "cell_type": "code",
   "execution_count": null,
   "metadata": {
    "collapsed": true
   },
   "outputs": [],
   "source": [
    "'''\n",
    "So, we have already gone through convolving an image, the only thing that's changed is the kernel.\n",
    "\n",
    "To make evalution easier by specifying which elements we wanted to be specified later. In tensorflow it is called Placeholder.\n",
    "\n",
    "Placeholder will fit into the graph in tensorflow. Generally, these are the inputs and outputs of the network.\n",
    "\n",
    "Lets rewrite this convolution network using placeholder for the image and the kernel.\n",
    "\n",
    "Now we are going to set the image dimention to NoneXNone, here placeholder comes to the picture. It tells tensorflow, let this dimention be any possible values.\n",
    "'''"
   ]
  },
  {
   "cell_type": "code",
   "execution_count": 86,
   "metadata": {
    "collapsed": true
   },
   "outputs": [],
   "source": [
    "image = tf.placeholder(tf.float32, shape = [None, None], name = 'image')"
   ]
  },
  {
   "cell_type": "code",
   "execution_count": null,
   "metadata": {
    "collapsed": true
   },
   "outputs": [],
   "source": []
  }
 ],
 "metadata": {
  "kernelspec": {
   "display_name": "Python 2",
   "language": "python",
   "name": "python2"
  },
  "language_info": {
   "codemirror_mode": {
    "name": "ipython",
    "version": 2
   },
   "file_extension": ".py",
   "mimetype": "text/x-python",
   "name": "python",
   "nbconvert_exporter": "python",
   "pygments_lexer": "ipython2",
   "version": "2.7.12"
  },
  "widgets": {
   "state": {},
   "version": "1.1.2"
  }
 },
 "nbformat": 4,
 "nbformat_minor": 0
}
