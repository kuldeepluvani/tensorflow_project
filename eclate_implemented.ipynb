{
 "cells": [
  {
   "cell_type": "code",
   "execution_count": 1,
   "metadata": {
    "collapsed": true
   },
   "outputs": [],
   "source": [
    "import sys\n",
    "from itertools import combinations\n",
    "\n",
    "frequent_set = {}      \n",
    "support = {}\n",
    "confident_set = {}"
   ]
  },
  {
   "cell_type": "code",
   "execution_count": 2,
   "metadata": {
    "collapsed": false
   },
   "outputs": [
    {
     "name": "stdout",
     "output_type": "stream",
     "text": [
      "Enter the filename: data.txt\n"
     ]
    }
   ],
   "source": [
    "filename = raw_input(\"Enter the filename: \")\n"
   ]
  },
  {
   "cell_type": "code",
   "execution_count": 3,
   "metadata": {
    "collapsed": false
   },
   "outputs": [
    {
     "name": "stdout",
     "output_type": "stream",
     "text": [
      "Enter the minimum support: 2\n"
     ]
    }
   ],
   "source": [
    "min_sup = input(\"Enter the minimum support: \")"
   ]
  },
  {
   "cell_type": "code",
   "execution_count": 4,
   "metadata": {
    "collapsed": true
   },
   "outputs": [],
   "source": [
    "delimiter = \",\"\n",
    "min_confidence = 0.6\n",
    "data_file = open(filename)"
   ]
  },
  {
   "cell_type": "code",
   "execution_count": 5,
   "metadata": {
    "collapsed": false
   },
   "outputs": [
    {
     "name": "stdout",
     "output_type": "stream",
     "text": [
      "['Bread', 'Butter', 'Jam']\n",
      "['Butter', 'Coke']\n",
      "['Butter', 'Milk']\n",
      "['Bread', 'Butter', 'Coke']\n",
      "['Bread', 'Milk']\n",
      "['Butter', 'Milk']\n",
      "['Bread', 'Milk']\n",
      "['Bread', 'Butter', 'Milk', 'Jam']\n",
      "['Bread', 'Butter', 'Milk']\n"
     ]
    }
   ],
   "source": [
    "def get_transactions(data_file, delimiter):\n",
    "    transactions = []\n",
    "    for line in data_file:\n",
    "        items = line.strip().split(delimiter)\n",
    "        #items = list(map(int, items))\n",
    "        print items\n",
    "        transactions.append(items)\n",
    "    return transactions\n",
    "\n",
    "transactions = get_transactions(data_file, delimiter) "
   ]
  },
  {
   "cell_type": "code",
   "execution_count": 6,
   "metadata": {
    "collapsed": false
   },
   "outputs": [
    {
     "name": "stdout",
     "output_type": "stream",
     "text": [
      "Bread [1, 4, 5, 7, 8, 9]\n",
      "Butter [1, 2, 3, 4, 6, 8, 9]\n",
      "Jam [1, 8]\n",
      "Coke [2, 4]\n",
      "Milk [3, 5, 6, 7, 8, 9]\n"
     ]
    }
   ],
   "source": [
    "def get_t_id_list(transactions):\n",
    "    t_id_list = [[], []]\n",
    "    transaction_id = 1\n",
    "    item_index = {}\n",
    "    i = 0\n",
    "    for transaction in transactions:\n",
    "        for item in transaction:\n",
    "            if item in t_id_list[0]:\n",
    "                index = item_index[item]\n",
    "                t_id_list[1][index].append(transaction_id)\n",
    "            else:\n",
    "                t_id_list[0].append(item)\n",
    "                item_index[item] = i\n",
    "\n",
    "                t_id_list[1].append([transaction_id])\n",
    "                i += 1\n",
    "\n",
    "        transaction_id += 1\n",
    "    return t_id_list\n",
    "\n",
    "# data structure of t_id_list\n",
    "# t_id_list = [ [list of itemsets],  [list of transaction ids of the corresponding itemsets]]\n",
    "# for exaple:\n",
    "# t_id_list = [ [\"Bread\", \"Milk\"], [1, 4, 5], [5, 6]]\n",
    "# so, the transaction ids which contains Bread are [1, 4, 5]\n",
    "# and the transaction ids which contains Milk are [5, 6]\n",
    "t_id_list = get_t_id_list(transactions)    \n",
    "\n",
    "for i in range(0, len(t_id_list[0])):\n",
    "    print t_id_list[0][i], t_id_list[1][i]\n"
   ]
  },
  {
   "cell_type": "code",
   "execution_count": 7,
   "metadata": {
    "collapsed": false
   },
   "outputs": [
    {
     "name": "stdout",
     "output_type": "stream",
     "text": [
      "\n",
      "Frequent lists: \n",
      "[['Bread', 'Butter', 'Jam', 'Coke', 'Milk'], [[1, 4, 5, 7, 8, 9], [1, 2, 3, 4, 6, 8, 9], [1, 8], [2, 4], [3, 5, 6, 7, 8, 9]]]\n"
     ]
    }
   ],
   "source": [
    "# this function consider only itemsets which are frequent with \n",
    "# respect to given minimun support\n",
    "\n",
    "def get_frequent_sets(t_id_list, min_sup):\n",
    "    new_frequent_set = [[], []]\n",
    "    l = len(t_id_list[0])\n",
    "    for i in range(0, l):\n",
    "        if len(t_id_list[1][i]) >= min_sup:\n",
    "            new_frequent_set[0].append(t_id_list[0][i])\n",
    "            new_frequent_set[1].append(t_id_list[1][i])\n",
    "            frequent_set[t_id_list[0][i]] = t_id_list[1][i]\n",
    "    return new_frequent_set\n",
    "\n",
    "t_id_list = get_frequent_sets(t_id_list, min_sup)  # returns only frequent item sets\n",
    "print \"\\nFrequent lists: \"\n",
    "print t_id_list"
   ]
  },
  {
   "cell_type": "code",
   "execution_count": 8,
   "metadata": {
    "collapsed": true
   },
   "outputs": [],
   "source": [
    "# this function generates the itemsets of the next level\n",
    "# for example as shown above items sets Bread, Butter, Jam, Coke, Milk are generated\n",
    "# therefore at the next level it will create following itemsets\n",
    "# {Bread, Butter}, {Bread, Jam}, {Bread, Coke}, {Bread, Milk}, \n",
    "# {Butter, Jam}, {Butter, Coke}, {Butter, Milk}, {Jam, Coke},\n",
    "# {Jam, Milk}, {Coke, Milk} \n",
    "def generate_next_level(t_id_list, level):  \n",
    "    l = len(t_id_list[0])\n",
    "    new_t_id_list = [[], []]\n",
    "\n",
    "    item_list = []  #list containing sets of itemsets\n",
    "    transaction_list = []   #list containing sets of transactions ids\n",
    "    for i in range(0, l):\n",
    "        items = t_id_list[0][i]\n",
    "        items = items.split(\",\")\n",
    "        sets = []\n",
    "        for item in items:\n",
    "            sets.append(item)\n",
    "        item_list.append(set(sets)) #creates set of itemset\n",
    "        transaction_list.append(set(t_id_list[1][i]))   #create set of transaction ids\n",
    "\n",
    "    # now generate next level itemsets\n",
    "    #suppose item_list is [\"Butter\", \"Milk\", \"Bread\"]\n",
    "    for i in range(0, l):\n",
    "        # pick one by one itemsets from the list\n",
    "        #suppose item_set picked here is \"Butter\"\n",
    "        item_set = item_list[i]\n",
    "        t_ids = transaction_list[i]\n",
    "        for j in range(i + 1, l):\n",
    "            # try to generate the new itemsets by combining it with previously picked itemset\n",
    "            #suppose item_set picked here is \"Milk\"\n",
    "            #so it will combine Bread and Milk and generate new item set {Bread, Milk}\n",
    "            item_set2 = item_list[j]\n",
    "            \n",
    "            #this handles the cases which are the likes of the following:\n",
    "            # item_set = {Bread, Milk}\n",
    "            # item_set2 = {Jam, Coke}\n",
    "            # while generating itemsets at level 3, the length of the itemset must be 3\n",
    "            # however, if we combine directly item_set with item_set2, it will generate the itemsets\n",
    "            # with the length 4. Folloing code will run in such cases\n",
    "            if len(list(item_set | item_set2)) > level:\n",
    "                list1 = list(item_set)\n",
    "                list2 = list(item_set2)\n",
    "                m = level - 1\n",
    "                t_ids2 = transaction_list[j]\n",
    "                \n",
    "                #in the above mentioned cases, it will be divided in two parts\n",
    "                #in the first part, it will pick one item from the item_set one by one \n",
    "                # and combine it with item_set2\n",
    "                # for example: from item_set = {Bread, Milk}, first pick Bread and combine it with \n",
    "                # item_set2. Then create Milk and combine it with item_set2\n",
    "                # so, totak two sets will be generated: {Bread, Jam, Coke} and {Milk, Jam, Coke}\n",
    "                for k in range(0, m):\n",
    "                    item1 = set([list1[k]])\n",
    "                    new_item_set = \",\".join(item1 | item_set2)\n",
    "                    \n",
    "                    # proceed only if it's not generated earlier\n",
    "                    if new_item_set not in new_t_id_list[0]:\n",
    "                        t_ids1 = set(frequent_set[list1[k]])\n",
    "                        new_t_ids = list(t_ids1 & t_ids2)\n",
    "                        if new_t_ids:\n",
    "                            new_t_id_list[0].append(new_item_set)\n",
    "                            new_t_id_list[1].append(new_t_ids)\n",
    "                            # print new_t_ids\n",
    "                    # print \"\\n\\n\"\n",
    "\n",
    "                # in the second part, it will pick item one by one from item_set2 and combine it with\n",
    "                # item_set\n",
    "                # for example: from item_set2 = {Jam, Coke}\n",
    "                # Pick Jam and combine with item_set\n",
    "                # pick Coke and combine with item_set\n",
    "                # so generated itemsets: {Bread, Milk, Jam} and {Bread, Milk, Coke}\n",
    "                # You can notice that all generated itemsets are of length 3\n",
    "                for k in range(0, m):\n",
    "                    item2 = set([list2[k]])\n",
    "\n",
    "                    new_item_set = \",\".join(item2 | item_set)\n",
    "                    \n",
    "                    # proceed only if it's not generated earlier\n",
    "                    if new_item_set not in new_t_id_list[0]:\n",
    "                        t_ids_2 = set(frequent_set[list2[k]])\n",
    "                        new_t_ids = list(t_ids & t_ids_2)\n",
    "                        if new_t_ids:\n",
    "                            new_t_id_list[0].append(new_item_set)\n",
    "                            new_t_id_list[1].append(new_t_ids)\n",
    "                            # print new_t_ids\n",
    "                    # print \"\\n\\n\"\n",
    "\n",
    "            else:\n",
    "                #the following line generates new itemsets using the union of the sets\n",
    "                # for example: A = set(['Butter', 'Milk']), B = set(['Butter', 'Bread'])\n",
    "                # then the output will be set(['Butter', 'Milk', 'Bread'])\n",
    "                new_item_set = \",\".join(item_set | item_set2)\n",
    "                \n",
    "                #proceed ahead only if the generated itemsets is unique (means not generated before)\n",
    "                if new_item_set not in new_t_id_list[0]:\n",
    "                    t_ids2 = transaction_list[j]\n",
    "                    new_item_set = \",\".join(item_set | item_set2)\n",
    "                    \n",
    "                    # transaction ids of the newly generated itemset can be generated easily by\n",
    "                    # using \"AND\" operation of two sets\n",
    "                    # for example:\n",
    "                    # Butter = {1, 4, 5, 7, 9}\n",
    "                    # Milk = {1, 5, 7, 8, 9}\n",
    "                    # So, Butter, Milk = {1, 5, 7, 9}. All these transactions contains \n",
    "                    # Butter with Milk\n",
    "                    new_t_ids = list(t_ids & t_ids2)\n",
    "                    # there may be case, in which itmeset {Bread, Milk, Bread} are generated \n",
    "                    # but there is not a single transaction that includes all three items\n",
    "                    # in such cases new_t_ids will be [] (empty). So, reject this kind of itemsets\n",
    "                    if new_t_ids:\n",
    "                        new_t_id_list[0].append(new_item_set)\n",
    "                        new_t_id_list[1].append(new_t_ids)\n",
    "\n",
    "    return new_t_id_list\n"
   ]
  },
  {
   "cell_type": "code",
   "execution_count": 9,
   "metadata": {
    "collapsed": false
   },
   "outputs": [
    {
     "name": "stdout",
     "output_type": "stream",
     "text": [
      "\n",
      "Level 2:\n",
      "Butter,Bread [8, 1, 4, 9]\n",
      "Jam,Bread [8, 1]\n",
      "Coke,Bread [4]\n",
      "Milk,Bread [8, 9, 5, 7]\n",
      "Butter,Jam [8, 1]\n",
      "Butter,Coke [2, 4]\n",
      "Butter,Milk [8, 9, 3, 6]\n",
      "Jam,Milk [8]\n",
      "\n",
      "Frequent lists: \n",
      "[['Butter,Bread', 'Jam,Bread', 'Milk,Bread', 'Butter,Jam', 'Butter,Coke', 'Butter,Milk'], [[8, 1, 4, 9], [8, 1], [8, 9, 5, 7], [8, 1], [2, 4], [8, 9, 3, 6]]]\n",
      "\n",
      "\n",
      "Level 3:\n",
      "Butter,Jam,Bread [8, 1]\n",
      "Butter,Milk,Bread [8, 9]\n",
      "Butter,Coke,Bread [4]\n",
      "Jam,Milk,Bread [8]\n",
      "Butter,Jam,Milk [8]\n",
      "\n",
      "Frequent lists: \n",
      "[['Butter,Jam,Bread', 'Butter,Milk,Bread'], [[8, 1], [8, 9]]]\n",
      "\n",
      "\n",
      "Level 4:\n",
      "Butter,Jam,Milk,Bread [8]\n",
      "\n",
      "Frequent lists: \n",
      "[[], []]\n",
      "\n"
     ]
    }
   ],
   "source": [
    "# we already generated itemsets at level 1, so to generate at next level\n",
    "# level is intialized with 2\n",
    "level = 2\n",
    "\n",
    "#this loop will generate item sets at the next level until possible\n",
    "while t_id_list[0]:\n",
    "    t_id_list = generate_next_level(t_id_list, level)   # generate next level\n",
    "\n",
    "    print \"\\nLevel \" + str(level) + \":\"\n",
    "    l = len(t_id_list[0])\n",
    "    for i in range(0, l):                      # print all the generated item_sets at the next level\n",
    "        print t_id_list[0][i], t_id_list[1][i]\n",
    "\n",
    "    t_id_list = get_frequent_sets(t_id_list, min_sup)  # returns only frequent item sets\n",
    "    print \"\\nFrequent lists: \"\n",
    "    print t_id_list\n",
    "    print \"\"\n",
    "    level += 1\n"
   ]
  },
  {
   "cell_type": "code",
   "execution_count": 10,
   "metadata": {
    "collapsed": false
   },
   "outputs": [
    {
     "name": "stdout",
     "output_type": "stream",
     "text": [
      "Support(Butter) is  7\n",
      "Support(Butter,Bread) is  4\n",
      "Support(Coke) is  2\n",
      "Support(Milk,Bread) is  4\n",
      "Support(Butter,Milk,Bread) is  2\n",
      "Support(Jam) is  2\n",
      "Support(Butter,Jam) is  2\n",
      "Support(Jam,Bread) is  2\n",
      "Support(Butter,Milk) is  4\n",
      "Support(Butter,Coke) is  2\n",
      "Support(Butter,Jam,Bread) is  2\n",
      "Support(Milk) is  6\n",
      "Support(Bread) is  6\n"
     ]
    }
   ],
   "source": [
    "#this code will compute the support of the frequent items\n",
    "for item_set in frequent_set.keys():\n",
    "    # support is the number of times item_set occurs in the data\n",
    "    support[item_set] = len(frequent_set[item_set])\n",
    "    print \"Support(\" + item_set + \") is \", support[item_set]"
   ]
  },
  {
   "cell_type": "code",
   "execution_count": 11,
   "metadata": {
    "collapsed": true
   },
   "outputs": [],
   "source": [
    "# this function calculate confidence of the itemsets\n",
    "# Confidence is used to generate strong association rules\n",
    "# if the {Butter, Bread, Milk} is the frequent set, then\n",
    "# Confidence(Butter,Bread->Milk) basically is the probability \n",
    "# that user will buy Milk, given user has bought Butter and Bread\n",
    "def calculate_confidence(item_set, sub_set):\n",
    "    return float(support[item_set])/float(support[sub_set])\n",
    "\n",
    "\n",
    "# for checking confidence, we need to get all the subset of the itemset,\n",
    "# except the empty set and the itemset itself\n",
    "# the following functin returns subsets of itemset\n",
    "# for input (Butter, Milk, Jam) returns\n",
    "# {Butter}, {Milk}, {Jam}, {Butter, Milk}, {Butter, Jam}, {Milk, Jam}\n",
    "def get_subsets(item_set):\n",
    "    item_set = item_set.split(\",\")\n",
    "    set1 = []\n",
    "    limit = len(item_set)\n",
    "    for i in range(1, limit):\n",
    "        for j in combinations(item_set, i):\n",
    "            set1.append(j)\n",
    "    return set1"
   ]
  },
  {
   "cell_type": "code",
   "execution_count": 12,
   "metadata": {
    "collapsed": false
   },
   "outputs": [
    {
     "name": "stdout",
     "output_type": "stream",
     "text": [
      "confidence(Jam->Butter) is 1.0\n",
      "confidence(Milk->Bread) is 0.666666666667\n",
      "confidence(Bread->Butter) is 0.666666666667\n",
      "confidence(Jam->Bread) is 1.0\n",
      "confidence(Butter,Jam->Bread) is 1.0\n",
      "confidence(Coke->Butter) is 1.0\n",
      "confidence(Jam,Bread->Butter) is 1.0\n",
      "confidence(Jam->Butter,Bread) is 1.0\n",
      "confidence(Bread->Milk) is 0.666666666667\n",
      "confidence(Milk->Butter) is 0.666666666667\n"
     ]
    }
   ],
   "source": [
    "# the following code will compute the confidence of each possible \n",
    "# combinations of itemsets\n",
    "for item_set in frequent_set.keys():\n",
    "    set1 = get_subsets(item_set)\n",
    "    if set1:\n",
    "        l = len(set1)\n",
    "        limit = l\n",
    "        l -= 1\n",
    "        for i in range(0, limit):\n",
    "            set1[i] = \",\".join(set1[i])\n",
    "\n",
    "        for i in range(0, limit):\n",
    "            confidence = calculate_confidence(item_set, set1[i])\n",
    "            if confidence >= min_confidence:\n",
    "                confident_set[set1[i]+\"->\"+set1[l-i]] = confidence\n",
    "for item in confident_set.keys():\n",
    "    print \"confidence(\" + item + \") is\", confident_set[item]"
   ]
  },
  {
   "cell_type": "code",
   "execution_count": null,
   "metadata": {
    "collapsed": true
   },
   "outputs": [],
   "source": []
  }
 ],
 "metadata": {
  "kernelspec": {
   "display_name": "Python 2",
   "language": "python",
   "name": "python2"
  },
  "language_info": {
   "codemirror_mode": {
    "name": "ipython",
    "version": 2
   },
   "file_extension": ".py",
   "mimetype": "text/x-python",
   "name": "python",
   "nbconvert_exporter": "python",
   "pygments_lexer": "ipython2",
   "version": "2.7.12"
  },
  "widgets": {
   "state": {},
   "version": "1.1.2"
  }
 },
 "nbformat": 4,
 "nbformat_minor": 0
}
