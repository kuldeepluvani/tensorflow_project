{
 "cells": [
  {
   "cell_type": "markdown",
   "metadata": {},
   "source": [
    "# Basic Models - Linear Regression\n",
    "\n",
    "A linear regression learning algorithm example using Tensorflow library."
   ]
  },
  {
   "cell_type": "markdown",
   "metadata": {},
   "source": [
    "> Requirements:\n",
    "> 1. Numpy - A fundamental package for scientific computation\n",
    "> 2. Matplotlib - A visualization library \n",
    "> 3. Sklean - For Boston dataset"
   ]
  },
  {
   "cell_type": "code",
   "execution_count": 1,
   "metadata": {},
   "outputs": [],
   "source": [
    "import tensorflow as tf\n",
    "import numpy as np\n",
    "import matplotlib.pyplot as plt\n",
    "%matplotlib inline\n",
    "\n",
    "from numpy import genfromtxt\n",
    "from sklearn.datasets import load_boston"
   ]
  },
  {
   "cell_type": "code",
   "execution_count": 2,
   "metadata": {},
   "outputs": [],
   "source": [
    "# Parameters\n",
    "learning_rate = 0.001\n",
    "training_epochs = 1000\n",
    "display_step = 10"
   ]
  },
  {
   "cell_type": "code",
   "execution_count": 3,
   "metadata": {},
   "outputs": [],
   "source": [
    "boston = load_boston()\n",
    "bfeatures = np.array(boston.data)\n",
    "blabels = np.array(boston.target)"
   ]
  },
  {
   "cell_type": "code",
   "execution_count": 4,
   "metadata": {},
   "outputs": [
    {
     "name": "stdout",
     "output_type": "stream",
     "text": [
      "Shape of feature data:  (100,) \n",
      "Shape of label data:  (100,)\n"
     ]
    }
   ],
   "source": [
    "data = genfromtxt('data.csv', delimiter=',')\n",
    "feature = data[1:, 0]\n",
    "label = data[1:, 1]\n",
    "print(\"Shape of feature data: \", feature.shape, \"\\nShape of label data: \", label.shape)"
   ]
  },
  {
   "cell_type": "markdown",
   "metadata": {},
   "source": [
    "Let's divide training and testing sets."
   ]
  },
  {
   "cell_type": "code",
   "execution_count": 5,
   "metadata": {},
   "outputs": [],
   "source": [
    "feature = np.round(feature, decimals = 2)\n",
    "label = np.round(label, decimals = 2)"
   ]
  },
  {
   "cell_type": "code",
   "execution_count": 6,
   "metadata": {},
   "outputs": [],
   "source": [
    "train_X = np.asarray(feature[:70])\n",
    "train_Y = np.asarray(label[:70])"
   ]
  },
  {
   "cell_type": "raw",
   "metadata": {},
   "source": [
    "# Training testing split of feature and label data\n",
    "train_X = np.asarray([3.3,4.4,5.5,6.71,6.93,4.168,9.779,6.182,7.59,2.167,\n",
    "                         7.042,10.791,5.313,7.997,5.654,9.27,3.1])\n",
    "train_Y = np.asarray([1.7,2.76,2.09,3.19,1.694,1.573,3.366,2.596,2.53,1.221,\n",
    "                         2.827,3.465,1.65,2.904,2.42,2.94,1.3])"
   ]
  },
  {
   "cell_type": "code",
   "execution_count": 7,
   "metadata": {},
   "outputs": [],
   "source": [
    "n_samples = train_X.shape[0]"
   ]
  },
  {
   "cell_type": "markdown",
   "metadata": {},
   "source": [
    "## Let's define graph input for tensorflow\n",
    "Our both the data has float value. So, we will define float placeholder for both the values. "
   ]
  },
  {
   "cell_type": "code",
   "execution_count": 8,
   "metadata": {},
   "outputs": [],
   "source": [
    "# Tensorflow graph input\n",
    "X = tf.placeholder(tf.float32, name='x')\n",
    "Y = tf.placeholder(tf.float32, name='y')"
   ]
  },
  {
   "cell_type": "markdown",
   "metadata": {},
   "source": [
    "As this is linear model, our model equation becomes <br><br>\n",
    "<center>$ Y = W * X + b$</center><br>\n",
    "Here, W is weight of our model and b is bias of our model. As we have discussed, we are gonna define our weights and bias with some *_random value_*. "
   ]
  },
  {
   "cell_type": "code",
   "execution_count": 9,
   "metadata": {},
   "outputs": [],
   "source": [
    "W = tf.Variable(np.random.randn(), name='weight')\n",
    "b = tf.Variable(np.random.randn(), name='bias')"
   ]
  },
  {
   "cell_type": "code",
   "execution_count": 10,
   "metadata": {},
   "outputs": [],
   "source": [
    "# Construct our model\n",
    "\n",
    "pred = tf.add(tf.multiply(X , W), b)"
   ]
  },
  {
   "cell_type": "code",
   "execution_count": 11,
   "metadata": {},
   "outputs": [],
   "source": [
    "# Mean squared error\n",
    "cost = tf.reduce_sum(tf.pow(pred-Y, 2))/(2*n_samples)"
   ]
  },
  {
   "cell_type": "code",
   "execution_count": 12,
   "metadata": {},
   "outputs": [],
   "source": [
    "# Gradient descent\n",
    "optimizer = tf.train.GradientDescentOptimizer(learning_rate).minimize(cost)"
   ]
  },
  {
   "cell_type": "code",
   "execution_count": 13,
   "metadata": {},
   "outputs": [],
   "source": [
    "# Initialize the variables (Assign their default value)\n",
    "init = tf.global_variables_initializer()"
   ]
  },
  {
   "cell_type": "code",
   "execution_count": 14,
   "metadata": {
    "scrolled": false
   },
   "outputs": [
    {
     "name": "stdout",
     "output_type": "stream",
     "text": [
      "Epoch: 0010 cost= 59.315738678 W= 1.4627861 b= 0.77644706\n",
      "Epoch: 0020 cost= 59.315547943 W= 1.4627619 b= 0.7776652\n",
      "Epoch: 0030 cost= 59.315345764 W= 1.4627373 b= 0.7788843\n",
      "Epoch: 0040 cost= 59.315135956 W= 1.4627128 b= 0.78010327\n",
      "Epoch: 0050 cost= 59.314922333 W= 1.4626882 b= 0.7813221\n",
      "Epoch: 0060 cost= 59.314723969 W= 1.462664 b= 0.7825413\n",
      "Epoch: 0070 cost= 59.314517975 W= 1.4626393 b= 0.78376025\n",
      "Epoch: 0080 cost= 59.314315796 W= 1.4626149 b= 0.78497887\n",
      "Epoch: 0090 cost= 59.314109802 W= 1.4625906 b= 0.7861969\n",
      "Epoch: 0100 cost= 59.313907623 W= 1.4625661 b= 0.78741443\n",
      "Epoch: 0110 cost= 59.313701630 W= 1.4625416 b= 0.78863215\n",
      "Epoch: 0120 cost= 59.313499451 W= 1.4625173 b= 0.7898493\n",
      "Epoch: 0130 cost= 59.313282013 W= 1.4624926 b= 0.7910665\n",
      "Epoch: 0140 cost= 59.313087463 W= 1.4624684 b= 0.79228216\n",
      "Epoch: 0150 cost= 59.312877655 W= 1.462444 b= 0.793497\n",
      "Epoch: 0160 cost= 59.312667847 W= 1.4624194 b= 0.7947117\n",
      "Epoch: 0170 cost= 59.312473297 W= 1.4623951 b= 0.7959246\n",
      "Epoch: 0180 cost= 59.312263489 W= 1.4623706 b= 0.7971377\n",
      "Epoch: 0190 cost= 59.312061310 W= 1.4623463 b= 0.79834944\n",
      "Epoch: 0200 cost= 59.311866760 W= 1.4623222 b= 0.79956025\n",
      "Epoch: 0210 cost= 59.311656952 W= 1.4622977 b= 0.80077076\n",
      "Epoch: 0220 cost= 59.311466217 W= 1.4622737 b= 0.801982\n",
      "Epoch: 0230 cost= 59.311244965 W= 1.4622489 b= 0.8031929\n",
      "Epoch: 0240 cost= 59.311077118 W= 1.4622252 b= 0.8044031\n",
      "Epoch: 0250 cost= 59.310848236 W= 1.4622005 b= 0.80561405\n",
      "Epoch: 0260 cost= 59.310653687 W= 1.4621763 b= 0.8068256\n",
      "Epoch: 0270 cost= 59.310443878 W= 1.462152 b= 0.80803746\n",
      "Epoch: 0280 cost= 59.310245514 W= 1.4621277 b= 0.80925024\n",
      "Epoch: 0290 cost= 59.310043335 W= 1.4621034 b= 0.8104614\n",
      "Epoch: 0300 cost= 59.309848785 W= 1.462079 b= 0.8116702\n",
      "Epoch: 0310 cost= 59.309638977 W= 1.4620547 b= 0.81287986\n",
      "Epoch: 0320 cost= 59.309432983 W= 1.4620304 b= 0.8140899\n",
      "Epoch: 0330 cost= 59.309226990 W= 1.462006 b= 0.8152988\n",
      "Epoch: 0340 cost= 59.309032440 W= 1.461982 b= 0.8165064\n",
      "Epoch: 0350 cost= 59.308822632 W= 1.4619576 b= 0.8177134\n",
      "Epoch: 0360 cost= 59.308635712 W= 1.4619336 b= 0.8189186\n",
      "Epoch: 0370 cost= 59.308418274 W= 1.4619092 b= 0.82012266\n",
      "Epoch: 0380 cost= 59.308231354 W= 1.4618852 b= 0.8213267\n",
      "Epoch: 0390 cost= 59.308029175 W= 1.4618609 b= 0.82253045\n",
      "Epoch: 0400 cost= 59.307819366 W= 1.4618367 b= 0.8237336\n",
      "Epoch: 0410 cost= 59.307617188 W= 1.4618126 b= 0.82493705\n",
      "Epoch: 0420 cost= 59.307422638 W= 1.4617883 b= 0.82614005\n",
      "Epoch: 0430 cost= 59.307239532 W= 1.4617646 b= 0.827344\n",
      "Epoch: 0440 cost= 59.307018280 W= 1.4617401 b= 0.8285472\n",
      "Epoch: 0450 cost= 59.306823730 W= 1.461716 b= 0.8297495\n",
      "Epoch: 0460 cost= 59.306625366 W= 1.4616919 b= 0.8309526\n",
      "Epoch: 0470 cost= 59.306430817 W= 1.4616678 b= 0.8321546\n",
      "Epoch: 0480 cost= 59.306236267 W= 1.4616437 b= 0.83335507\n",
      "Epoch: 0490 cost= 59.306018829 W= 1.4616195 b= 0.8345555\n",
      "Epoch: 0500 cost= 59.305824280 W= 1.4615955 b= 0.8357562\n",
      "Epoch: 0510 cost= 59.305629730 W= 1.4615713 b= 0.83695626\n",
      "Epoch: 0520 cost= 59.305442810 W= 1.4615475 b= 0.83815646\n",
      "Epoch: 0530 cost= 59.305225372 W= 1.4615232 b= 0.8393552\n",
      "Epoch: 0540 cost= 59.305038452 W= 1.4614991 b= 0.84055257\n",
      "Epoch: 0550 cost= 59.304832458 W= 1.4614753 b= 0.8417497\n",
      "Epoch: 0560 cost= 59.304630280 W= 1.461451 b= 0.842947\n",
      "Epoch: 0570 cost= 59.304443359 W= 1.4614271 b= 0.84414446\n",
      "Epoch: 0580 cost= 59.304256439 W= 1.4614033 b= 0.84534174\n",
      "Epoch: 0590 cost= 59.304046631 W= 1.461379 b= 0.84653884\n",
      "Epoch: 0600 cost= 59.303836823 W= 1.461355 b= 0.84773624\n",
      "Epoch: 0610 cost= 59.303653717 W= 1.4613312 b= 0.84893304\n",
      "Epoch: 0620 cost= 59.303451538 W= 1.461307 b= 0.8501283\n",
      "Epoch: 0630 cost= 59.303256989 W= 1.4612831 b= 0.8513231\n",
      "Epoch: 0640 cost= 59.303043365 W= 1.4612589 b= 0.8525167\n",
      "Epoch: 0650 cost= 59.302852631 W= 1.4612353 b= 0.853709\n",
      "Epoch: 0660 cost= 59.302665710 W= 1.4612113 b= 0.85490155\n",
      "Epoch: 0670 cost= 59.302471161 W= 1.4611872 b= 0.8560944\n",
      "Epoch: 0680 cost= 59.302246094 W= 1.4611632 b= 0.8572867\n",
      "Epoch: 0690 cost= 59.302066803 W= 1.4611392 b= 0.8584794\n",
      "Epoch: 0700 cost= 59.301868439 W= 1.4611155 b= 0.8596713\n",
      "Epoch: 0710 cost= 59.301673889 W= 1.4610915 b= 0.86086154\n",
      "Epoch: 0720 cost= 59.301456451 W= 1.4610674 b= 0.8620514\n",
      "Epoch: 0730 cost= 59.301284790 W= 1.4610437 b= 0.8632397\n",
      "Epoch: 0740 cost= 59.301082611 W= 1.46102 b= 0.86442834\n",
      "Epoch: 0750 cost= 59.300880432 W= 1.4609959 b= 0.86561894\n",
      "Epoch: 0760 cost= 59.300670624 W= 1.460972 b= 0.8668098\n",
      "Epoch: 0770 cost= 59.300502777 W= 1.4609483 b= 0.86800003\n",
      "Epoch: 0780 cost= 59.300285339 W= 1.4609243 b= 0.8691886\n",
      "Epoch: 0790 cost= 59.300098419 W= 1.4609005 b= 0.8703759\n",
      "Epoch: 0800 cost= 59.299903870 W= 1.4608768 b= 0.87156266\n",
      "Epoch: 0810 cost= 59.299705505 W= 1.4608529 b= 0.8727497\n",
      "Epoch: 0820 cost= 59.299510956 W= 1.4608289 b= 0.87393713\n",
      "Epoch: 0830 cost= 59.299324036 W= 1.4608053 b= 0.87512296\n",
      "Epoch: 0840 cost= 59.299137115 W= 1.4607818 b= 0.8763068\n",
      "Epoch: 0850 cost= 59.298934937 W= 1.4607579 b= 0.87749076\n",
      "Epoch: 0860 cost= 59.298744202 W= 1.4607341 b= 0.8786745\n",
      "Epoch: 0870 cost= 59.298534393 W= 1.4607102 b= 0.8798575\n",
      "Epoch: 0880 cost= 59.298339844 W= 1.4606862 b= 0.8810396\n",
      "Epoch: 0890 cost= 59.298145294 W= 1.4606626 b= 0.8822222\n",
      "Epoch: 0900 cost= 59.297950745 W= 1.4606388 b= 0.8834047\n",
      "Epoch: 0910 cost= 59.297752380 W= 1.460615 b= 0.8845875\n",
      "Epoch: 0920 cost= 59.297565460 W= 1.4605914 b= 0.88577\n",
      "Epoch: 0930 cost= 59.297378540 W= 1.4605678 b= 0.88695264\n",
      "Epoch: 0940 cost= 59.297168732 W= 1.4605439 b= 0.88813627\n",
      "Epoch: 0950 cost= 59.296981812 W= 1.4605204 b= 0.8893193\n",
      "Epoch: 0960 cost= 59.296791077 W= 1.4604965 b= 0.8905019\n",
      "Epoch: 0970 cost= 59.296611786 W= 1.4604731 b= 0.8916831\n",
      "Epoch: 0980 cost= 59.296401978 W= 1.4604493 b= 0.8928629\n",
      "Epoch: 0990 cost= 59.296211243 W= 1.4604255 b= 0.8940425\n",
      "Epoch: 1000 cost= 59.296016693 W= 1.4604017 b= 0.89522296\n",
      "Training completed!\n",
      "Training cost= 59.296017 W= 1.4604017 b= 0.89522296 \n",
      "\n"
     ]
    },
    {
     "data": {
      "image/png": "[encoded data removed]",
      "text/plain": [
       "<Figure size 432x288 with 1 Axes>"
      ]
     },
     "metadata": {},
     "output_type": "display_data"
    },
    {
     "name": "stdout",
     "output_type": "stream",
     "text": [
      "Testing... (Mean square loss Comparison)\n",
      "Testing cost= 48.577175\n",
      "Absolute mean square loss difference: 10.718842\n"
     ]
    },
    {
     "data": {
      "image/png": "[encoded data removed]",
      "text/plain": [
       "<Figure size 432x288 with 1 Axes>"
      ]
     },
     "metadata": {},
     "output_type": "display_data"
    }
   ],
   "source": [
    "# Start session\n",
    "\n",
    "with tf.Session() as sess:\n",
    "    \n",
    "    # Run the initializer\n",
    "    sess.run(init)\n",
    "    \n",
    "    for epoch in range(training_epochs):\n",
    "        for (x,y) in zip(train_X, train_Y):\n",
    "            sess.run(optimizer, feed_dict = {X:x, Y:y})\n",
    "        \n",
    "        if (epoch+1) % display_step == 0:\n",
    "            c = sess.run(cost, feed_dict={X:train_X, Y:train_Y})\n",
    "            print(\"Epoch:\", '%04d' % (epoch+1), \"cost=\", \"{:.9f}\".format(c), \\\n",
    "                \"W=\", sess.run(W), \"b=\", sess.run(b))\n",
    "    print(\"Training completed!\")\n",
    "    \n",
    "    \n",
    "    training_cost = sess.run(cost, feed_dict={X: train_X, Y: train_Y})\n",
    "    print(\"Training cost=\", training_cost, \"W=\", sess.run(W), \"b=\", sess.run(b), '\\n')\n",
    "\n",
    "     # Graphic display\n",
    "    plt.plot(train_X, train_Y, 'ro', label='Original data')\n",
    "    plt.plot(train_X, sess.run(W) * train_X + sess.run(b), label='Fitted line')\n",
    "    plt.legend()\n",
    "    plt.show()\n",
    "    \n",
    "    # Testing example, as requested (Issue #2)\n",
    "    test_X = np.asarray(feature[-30:])\n",
    "    test_Y = np.asarray(label[-30:])\n",
    "\n",
    "    print(\"Testing... (Mean square loss Comparison)\")\n",
    "    testing_cost = sess.run(\n",
    "        tf.reduce_sum(tf.pow(pred - Y, 2)) / (2 * test_X.shape[0]),\n",
    "        feed_dict={X: test_X, Y: test_Y})  # same function as cost above\n",
    "    print(\"Testing cost=\", testing_cost)\n",
    "    print(\"Absolute mean square loss difference:\", abs(\n",
    "        training_cost - testing_cost))\n",
    "\n",
    "    plt.plot(test_X, test_Y, 'bo', label='Testing data')\n",
    "    plt.plot(train_X, sess.run(W) * train_X + sess.run(b), label='Fitted line')\n",
    "    plt.legend()\n",
    "    plt.show()"
   ]
  }
 ],
 "metadata": {
  "kernelspec": {
   "display_name": "Python 3",
   "language": "python",
   "name": "python3"
  },
  "language_info": {
   "codemirror_mode": {
    "name": "ipython",
    "version": 3
   },
   "file_extension": ".py",
   "mimetype": "text/x-python",
   "name": "python",
   "nbconvert_exporter": "python",
   "pygments_lexer": "ipython3",
   "version": "3.6.6"
  }
 },
 "nbformat": 4,
 "nbformat_minor": 2
}
